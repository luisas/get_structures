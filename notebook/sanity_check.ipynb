{
 "cells": [
  {
   "cell_type": "code",
   "execution_count": 54,
   "id": "1c409c95",
   "metadata": {},
   "outputs": [],
   "source": [
    "import pandas as pd\n",
    "import seaborn as sns\n",
    "import sys\n",
    "sys.path.append('../../src/utils/')\n",
    "sys.path.append('../../bin/utils')\n",
    "sns.set_context(\"talk\")\n",
    "sns.set_theme(style=\"white\")\n",
    "from Bio import SeqIO\n",
    "import warnings\n",
    "import glob\n",
    "import os\n",
    "import warnings\n",
    "warnings.filterwarnings(\"ignore\")\n",
    "\n",
    "# Structures AF2 \n",
    "def get_seq(PDBFile):\n",
    "    with open(PDBFile, 'r') as pdb_file:\n",
    "        for record in SeqIO.parse(pdb_file, 'pdb-atom'):\n",
    "            return(str(record.seq))\n",
    "\n",
    "def get_structure_df(structure_path):\n",
    "    df = pd.DataFrame(columns=[\"id\", \"seq\"])\n",
    "    for structure in structure_path:\n",
    "        seq = get_seq(structure)\n",
    "        name = structure.split(\"/\")[-1].split(\".\")[0]\n",
    "        # add to dataframe\n",
    "        df.loc[len(df)] = {\"id\": name, \"seq\": seq}\n",
    "    return(df)\n",
    "\n",
    "# Real sequence\n",
    "def get_real_sequence(path_fasta):\n",
    "    df_references = pd.DataFrame(columns=[\"id\", \"seq\"])\n",
    "    for reference in path_fasta:\n",
    "        # save the sequence and id in dataframe\n",
    "        for record in SeqIO.parse(reference, \"fasta\"):\n",
    "            df_references.loc[len(df_references)] = {\"id\": record.id, \"seq\": str(record.seq)}\n",
    "    return(df_references)\n",
    "\n",
    "def calculate_percentage_identity(seq1, seq2):\n",
    "    if len(seq1) != len(seq2):\n",
    "        percentage_identity = 0\n",
    "\n",
    "    identical_count = sum(1 for a, b in zip(seq1, seq2) if a == b)\n",
    "\n",
    "    percentage_identity = (identical_count / len(seq1)) * 100\n",
    "    return percentage_identity\n",
    "\n"
   ]
  },
  {
   "cell_type": "code",
   "execution_count": 55,
   "id": "af650d7d",
   "metadata": {},
   "outputs": [],
   "source": [
    "family = \"PF00079\"\n",
    "path_structures = glob.glob(\"../../../titration_pdb_leila/pred_pdbs/structures/fetched_preprocessed/UniProtKB/id_0.99_cov_1.0/\"+family+\"*/*.pdb\")\n",
    "path_structures = glob.glob(\"../../../data/OLD/FETCHED_STRUCTURES/0.9_1/\"+family+\"*/*.pdb\")\n",
    "path_fasta = glob.glob(\"../../../titration_fasta/\"+family+ \"*.fasta\")\n",
    "df_sequences  = get_real_sequence(path_fasta)\n",
    "df_structures = get_structure_df(path_structures)"
   ]
  },
  {
   "cell_type": "code",
   "execution_count": 56,
   "id": "628aaa28",
   "metadata": {},
   "outputs": [],
   "source": [
    "df_structures = df_structures.merge(df_sequences, on=\"id\", how=\"inner\", suffixes=(\"_af2\", \"_ref\"))\n",
    "df_structures[\"perc_id\"] = df_structures.apply(lambda x: calculate_percentage_identity(x.seq_ref, x.seq_af2), axis=1)"
   ]
  },
  {
   "cell_type": "code",
   "execution_count": 52,
   "id": "9f9d5667",
   "metadata": {},
   "outputs": [
    {
     "data": {
      "text/html": [
       "<div>\n",
       "<style scoped>\n",
       "    .dataframe tbody tr th:only-of-type {\n",
       "        vertical-align: middle;\n",
       "    }\n",
       "\n",
       "    .dataframe tbody tr th {\n",
       "        vertical-align: top;\n",
       "    }\n",
       "\n",
       "    .dataframe thead th {\n",
       "        text-align: right;\n",
       "    }\n",
       "</style>\n",
       "<table border=\"1\" class=\"dataframe\">\n",
       "  <thead>\n",
       "    <tr style=\"text-align: right;\">\n",
       "      <th></th>\n",
       "      <th>id</th>\n",
       "      <th>seq_af2</th>\n",
       "      <th>seq_ref</th>\n",
       "      <th>perc_id</th>\n",
       "    </tr>\n",
       "  </thead>\n",
       "  <tbody>\n",
       "  </tbody>\n",
       "</table>\n",
       "</div>"
      ],
      "text/plain": [
       "Empty DataFrame\n",
       "Columns: [id, seq_af2, seq_ref, perc_id]\n",
       "Index: []"
      ]
     },
     "execution_count": 52,
     "metadata": {},
     "output_type": "execute_result"
    }
   ],
   "source": [
    "# Check wether there is anything below the said threshold\n",
    "IDENTITY_THRESHOLD = 0.99\n",
    "df_structures[df_structures.perc_id < IDENTITY_THRESHOLD].sort_values(by=\"perc_id\", ascending=False)"
   ]
  }
 ],
 "metadata": {
  "kernelspec": {
   "display_name": "Python 3 (ipykernel)",
   "language": "python",
   "name": "python3"
  },
  "language_info": {
   "codemirror_mode": {
    "name": "ipython",
    "version": 3
   },
   "file_extension": ".py",
   "mimetype": "text/x-python",
   "name": "python",
   "nbconvert_exporter": "python",
   "pygments_lexer": "ipython3",
   "version": "3.10.12"
  },
  "vscode": {
   "interpreter": {
    "hash": "9cb3457e621fef10ccc726cdf49c3a6d7ae9ec7c3c7d02b1814e28a4a388400d"
   }
  }
 },
 "nbformat": 4,
 "nbformat_minor": 5
}
