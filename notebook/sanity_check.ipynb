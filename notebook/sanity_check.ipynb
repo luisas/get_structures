{
 "cells": [
  {
   "cell_type": "code",
   "execution_count": 86,
   "id": "1c409c95",
   "metadata": {},
   "outputs": [],
   "source": [
    "import pandas as pd\n",
    "import seaborn as sns\n",
    "import sys\n",
    "sys.path.append('../../src/utils/')\n",
    "sys.path.append('../../bin/utils')\n",
    "sns.set_context(\"talk\")\n",
    "sns.set_theme(style=\"white\")\n",
    "from Bio import SeqIO\n",
    "import warnings\n",
    "import glob\n",
    "import os\n",
    "import warnings\n",
    "warnings.filterwarnings(\"ignore\")\n",
    "\n",
    "# Structures AF2 \n",
    "def get_seq(PDBFile):\n",
    "    with open(PDBFile, 'r') as pdb_file:\n",
    "        for record in SeqIO.parse(pdb_file, 'pdb-atom'):\n",
    "            return(str(record.seq))\n",
    "\n",
    "def get_structure_df(structure_path):\n",
    "    df = pd.DataFrame(columns=[\"id\", \"seq\", \"family\"])\n",
    "    for structure in structure_path:\n",
    "        seq = get_seq(structure)\n",
    "        name = structure.split(\"/\")[-1].split(\".\")[0]\n",
    "        # add to dataframe\n",
    "        df.loc[len(df)] = {\"id\": name, \"seq\": seq, \"family\": structure.split(\"/\")[-2]}\n",
    "    return(df)\n",
    "\n",
    "# Real sequence\n",
    "def get_real_sequence(path_fasta):\n",
    "    df_references = pd.DataFrame(columns=[\"id\", \"seq\", \"family\"])\n",
    "    for reference in path_fasta:\n",
    "        # save the sequence and id in dataframe\n",
    "        for record in SeqIO.parse(reference, \"fasta\"):\n",
    "            df_references.loc[len(df_references)] = {\"id\": record.id, \"seq\": str(record.seq), \"family\": reference.split(\"/\")[-1].split(\".\")[0] }\n",
    "    return(df_references)\n",
    "\n",
    "def calculate_percentage_identity(seq1, seq2):\n",
    "    # if seq1 or seq2 are nan, return 0\n",
    "    if pd.isna(seq1) or pd.isna(seq2):\n",
    "        percentage_identity = 0\n",
    "        return percentage_identity\n",
    "    if len(seq1) != len(seq2):\n",
    "        percentage_identity = 0\n",
    "\n",
    "    identical_count = sum(1 for a, b in zip(seq1, seq2) if a == b)\n",
    "\n",
    "    percentage_identity = (identical_count / len(seq1)) * 100\n",
    "    return percentage_identity"
   ]
  },
  {
   "cell_type": "code",
   "execution_count": 80,
   "id": "af650d7d",
   "metadata": {},
   "outputs": [],
   "source": [
    "#path_structures = glob.glob(\"../../../titration_pdb_leila/pred_pdbs/structures/fetched_preprocessed/UniProtKB/id_0.99_cov_1.0/\"+family+\"*/pdbs/*.pdb\")\n",
    "path_structures = glob.glob(\"../../../data/phylo3d_structures_af2db/FETCHED_STRUCTURES/0.99_1/*/*.pdb\")\n",
    "path_fasta = glob.glob(\"../../../titration_fasta/*.fasta\")\n",
    "df_sequences  = get_real_sequence(path_fasta)\n",
    "df_structures = get_structure_df(path_structures)"
   ]
  },
  {
   "cell_type": "code",
   "execution_count": 81,
   "id": "628aaa28",
   "metadata": {},
   "outputs": [],
   "source": [
    "df_structures = df_structures.merge(df_sequences, on=[\"family\", \"id\"], how=\"outer\", suffixes=(\"_af2\", \"_ref\"))\n",
    "df_structures[\"perc_id\"] = df_structures.apply(lambda x: calculate_percentage_identity(x.seq_ref, x.seq_af2), axis=1)"
   ]
  },
  {
   "cell_type": "code",
   "execution_count": 90,
   "id": "9f9d5667",
   "metadata": {},
   "outputs": [
    {
     "data": {
      "text/plain": [
       "array(['PF00698', 'PF03727', 'PF00740', 'PF00759', 'PF00285', 'PF01425',\n",
       "       'PF00331'], dtype=object)"
      ]
     },
     "execution_count": 90,
     "metadata": {},
     "output_type": "execute_result"
    }
   ],
   "source": [
    "# Check wether there is anything below the said threshold\n",
    "IDENTITY_THRESHOLD = 99\n",
    "missing_sequences = df_structures[df_structures.perc_id < IDENTITY_THRESHOLD].sort_values(by=\"perc_id\", ascending=False)\n",
    "missing_sequences.family.unique()"
   ]
  },
  {
   "attachments": {},
   "cell_type": "markdown",
   "id": "7c16056e",
   "metadata": {},
   "source": [
    "Prepare template files for titration "
   ]
  },
  {
   "cell_type": "code",
   "execution_count": 95,
   "id": "b7df5225",
   "metadata": {},
   "outputs": [],
   "source": [
    "full_families = set(df_structures.family.unique()) - set(missing_sequences.family.unique())"
   ]
  },
  {
   "cell_type": "code",
   "execution_count": null,
   "id": "29b51034",
   "metadata": {},
   "outputs": [],
   "source": [
    "outdir_for_prep_files = \"../../../data/phylo3d_structures_af2db\""
   ]
  },
  {
   "cell_type": "code",
   "execution_count": 98,
   "id": "10e5b6a8",
   "metadata": {},
   "outputs": [],
   "source": [
    "# list_families_fully_retrieved\n",
    "with open(outdir_for_prep_files+\"/list_families_fully_retrieved\", \"w\") as f:\n",
    "    for family in full_families:\n",
    "        f.write(family+\"\\n\")"
   ]
  },
  {
   "cell_type": "code",
   "execution_count": 104,
   "id": "35c58605",
   "metadata": {},
   "outputs": [],
   "source": [
    "# Input list pred \n",
    "# Create directory input_pred if it does not exist \n",
    "os.system(\"mkdir -p \"+ outdir_for_prep_files+\"/input_list_pred\")\n",
    "for family in full_families:\n",
    "    with open(outdir_for_prep_files+\"/input_list_pred/\"+family+\"_input_list\", \"w\") as f:\n",
    "        df_fam = df_structures[df_structures.family == family]\n",
    "        # print in each line family.id.pdb\n",
    "        for index, row in df_fam.iterrows():\n",
    "                f.write(df_fam.loc[index, \"family\"]+\".\"+df_fam.loc[index, \"id\"]+\".pdb\")\n",
    "                f.write(\"\\n\")"
   ]
  },
  {
   "cell_type": "code",
   "execution_count": 105,
   "id": "4ac2f628",
   "metadata": {},
   "outputs": [],
   "source": [
    "# Templates for pred \n",
    "os.system(\"mkdir -p \"+ outdir_for_prep_files+\"/templates_for_pred\")\n",
    "for family in full_families:\n",
    "    with open(outdir_for_prep_files+\"/templates_for_pred/\"+family+\".template_list\", \"w\") as f:\n",
    "        df_fam = df_structures[df_structures.family == family]\n",
    "        # print in each line family.id.pdb\n",
    "        for index, row in df_fam.iterrows():\n",
    "                f.write(\">\"+df_fam.loc[index, \"id\"]+\".pdb _P_ \"+df_fam.loc[index, \"family\"]+\".\"+df_fam.loc[index, \"id\"]+\".pdb\")\n",
    "                f.write(\"\\n\")"
   ]
  }
 ],
 "metadata": {
  "kernelspec": {
   "display_name": "Python 3 (ipykernel)",
   "language": "python",
   "name": "python3"
  },
  "language_info": {
   "codemirror_mode": {
    "name": "ipython",
    "version": 3
   },
   "file_extension": ".py",
   "mimetype": "text/x-python",
   "name": "python",
   "nbconvert_exporter": "python",
   "pygments_lexer": "ipython3",
   "version": "3.10.12"
  },
  "vscode": {
   "interpreter": {
    "hash": "9cb3457e621fef10ccc726cdf49c3a6d7ae9ec7c3c7d02b1814e28a4a388400d"
   }
  }
 },
 "nbformat": 4,
 "nbformat_minor": 5
}
